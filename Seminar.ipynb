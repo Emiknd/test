{
 "cells": [
  {
   "cell_type": "code",
   "execution_count": 5,
   "metadata": {},
   "outputs": [
    {
     "name": "stdout",
     "output_type": "stream",
     "text": [
      "Collecting package metadata (current_repodata.json): ...working... done\n",
      "Note: you may need to restart the kernel to use updated packages.\n"
     ]
    },
    {
     "name": "stderr",
     "output_type": "stream",
     "text": [
      "\n",
      "\n",
      "==> WARNING: A newer version of conda exists. <==\n",
      "  current version: 22.9.0\n",
      "  latest version: 23.3.1\n",
      "\n",
      "Please update conda by running\n",
      "\n",
      "    $ conda update -n base -c defaults conda\n",
      "\n",
      "\n"
     ]
    },
    {
     "name": "stdout",
     "output_type": "stream",
     "text": [
      "\n",
      "Solving environment: ...working... done\n",
      "\n",
      "## Package Plan ##\n",
      "\n",
      "  environment location: c:\\Users\\emok\\Anaconda3\n",
      "\n",
      "  added / updated specs:\n",
      "    - glpk\n",
      "\n",
      "\n",
      "The following packages will be downloaded:\n",
      "\n",
      "    package                    |            build\n",
      "    ---------------------------|-----------------\n",
      "    glpk-5.0                   |       h8ffe710_0         3.3 MB  conda-forge\n",
      "    ------------------------------------------------------------\n",
      "                                           Total:         3.3 MB\n",
      "\n",
      "The following NEW packages will be INSTALLED:\n",
      "\n",
      "  glpk               conda-forge/win-64::glpk-5.0-h8ffe710_0 None\n",
      "\n",
      "\n",
      "\n",
      "Downloading and Extracting Packages\n",
      "\n",
      "glpk-5.0             | 3.3 MB    |            |   0% \n",
      "glpk-5.0             | 3.3 MB    |            |   0% \n",
      "glpk-5.0             | 3.3 MB    | 7          |   7% \n",
      "glpk-5.0             | 3.3 MB    | #2         |  12% \n",
      "glpk-5.0             | 3.3 MB    | #9         |  20% \n",
      "glpk-5.0             | 3.3 MB    | ##5        |  25% \n",
      "glpk-5.0             | 3.3 MB    | ###2       |  33% \n",
      "glpk-5.0             | 3.3 MB    | ####1      |  42% \n",
      "glpk-5.0             | 3.3 MB    | ####8      |  49% \n",
      "glpk-5.0             | 3.3 MB    | #####6     |  56% \n",
      "glpk-5.0             | 3.3 MB    | ######3    |  63% \n",
      "glpk-5.0             | 3.3 MB    | #######    |  70% \n",
      "glpk-5.0             | 3.3 MB    | #######7   |  77% \n",
      "glpk-5.0             | 3.3 MB    | ########4  |  84% \n",
      "glpk-5.0             | 3.3 MB    | #########2 |  92% \n",
      "glpk-5.0             | 3.3 MB    | ########## | 100% \n",
      "glpk-5.0             | 3.3 MB    | ########## | 100% \n",
      "Preparing transaction: ...working... done\n",
      "Verifying transaction: ...working... done\n",
      "Executing transaction: ...working... done\n",
      "Retrieving notices: ...working... done\n"
     ]
    }
   ],
   "source": [
    "conda install -c conda-forge glpk"
   ]
  },
  {
   "cell_type": "code",
   "execution_count": 28,
   "metadata": {},
   "outputs": [
    {
     "name": "stdout",
     "output_type": "stream",
     "text": [
      "Collecting package metadata (current_repodata.json): ...working... done\n",
      "Solving environment: ...working... failed with initial frozen solve. Retrying with flexible solve.\n",
      "Collecting package metadata (repodata.json): ...working... done\n",
      "Solving environment: ...working... failed with initial frozen solve. Retrying with flexible solve.\n",
      "\n",
      "Note: you may need to restart the kernel to use updated packages.\n"
     ]
    },
    {
     "name": "stderr",
     "output_type": "stream",
     "text": [
      "\n",
      "PackagesNotFoundError: The following packages are not available from current channels:\n",
      "\n",
      "  - cbc\n",
      "\n",
      "Current channels:\n",
      "\n",
      "  - https://conda.anaconda.org/conda-forge/win-64\n",
      "  - https://conda.anaconda.org/conda-forge/noarch\n",
      "  - https://repo.anaconda.com/pkgs/main/win-64\n",
      "  - https://repo.anaconda.com/pkgs/main/noarch\n",
      "  - https://repo.anaconda.com/pkgs/r/win-64\n",
      "  - https://repo.anaconda.com/pkgs/r/noarch\n",
      "  - https://repo.anaconda.com/pkgs/msys2/win-64\n",
      "  - https://repo.anaconda.com/pkgs/msys2/noarch\n",
      "\n",
      "To search for alternate channels that may provide the conda package you're\n",
      "looking for, navigate to\n",
      "\n",
      "    https://anaconda.org\n",
      "\n",
      "and use the search bar at the top of the page.\n",
      "\n",
      "\n"
     ]
    }
   ],
   "source": [
    "conda install -c conda-forge cbc"
   ]
  },
  {
   "cell_type": "code",
   "execution_count": 29,
   "metadata": {},
   "outputs": [
    {
     "name": "stdout",
     "output_type": "stream",
     "text": [
      "Collecting daepy\n",
      "  Downloading daepy-1.0.1.tar.gz (129 kB)\n",
      "     -------------------------------------- 129.3/129.3 kB 3.7 MB/s eta 0:00:00\n",
      "  Preparing metadata (setup.py): started\n",
      "  Preparing metadata (setup.py): finished with status 'done'\n",
      "Requirement already satisfied: numpy>=1.4.0 in c:\\users\\emok\\anaconda3\\lib\\site-packages (from daepy) (1.21.5)\n",
      "Requirement already satisfied: scipy>=1.0.0 in c:\\users\\emok\\anaconda3\\lib\\site-packages (from daepy) (1.9.1)\n",
      "Requirement already satisfied: matplotlib>=3.0 in c:\\users\\emok\\anaconda3\\lib\\site-packages (from daepy) (3.5.2)\n",
      "Requirement already satisfied: dill in c:\\users\\emok\\anaconda3\\lib\\site-packages (from daepy) (0.3.4)\n",
      "Requirement already satisfied: python-dateutil>=2.7 in c:\\users\\emok\\anaconda3\\lib\\site-packages (from matplotlib>=3.0->daepy) (2.8.2)\n",
      "Requirement already satisfied: pillow>=6.2.0 in c:\\users\\emok\\anaconda3\\lib\\site-packages (from matplotlib>=3.0->daepy) (9.2.0)\n",
      "Requirement already satisfied: fonttools>=4.22.0 in c:\\users\\emok\\anaconda3\\lib\\site-packages (from matplotlib>=3.0->daepy) (4.25.0)\n",
      "Requirement already satisfied: kiwisolver>=1.0.1 in c:\\users\\emok\\anaconda3\\lib\\site-packages (from matplotlib>=3.0->daepy) (1.4.2)\n",
      "Requirement already satisfied: cycler>=0.10 in c:\\users\\emok\\anaconda3\\lib\\site-packages (from matplotlib>=3.0->daepy) (0.11.0)\n",
      "Requirement already satisfied: pyparsing>=2.2.1 in c:\\users\\emok\\anaconda3\\lib\\site-packages (from matplotlib>=3.0->daepy) (3.0.9)\n",
      "Requirement already satisfied: packaging>=20.0 in c:\\users\\emok\\anaconda3\\lib\\site-packages (from matplotlib>=3.0->daepy) (21.3)\n",
      "Requirement already satisfied: six>=1.5 in c:\\users\\emok\\anaconda3\\lib\\site-packages (from python-dateutil>=2.7->matplotlib>=3.0->daepy) (1.16.0)\n",
      "Building wheels for collected packages: daepy\n",
      "  Building wheel for daepy (setup.py): started\n",
      "  Building wheel for daepy (setup.py): finished with status 'error'\n",
      "  Running setup.py clean for daepy\n",
      "Failed to build daepy\n",
      "Installing collected packages: daepy\n",
      "  Running setup.py install for daepy: started\n",
      "  Running setup.py install for daepy: finished with status 'error'\n",
      "Note: you may need to restart the kernel to use updated packages.\n"
     ]
    },
    {
     "name": "stderr",
     "output_type": "stream",
     "text": [
      "  error: subprocess-exited-with-error\n",
      "  \n",
      "  × python setup.py bdist_wheel did not run successfully.\n",
      "  │ exit code: 1\n",
      "  ╰─> [19 lines of output]\n",
      "      running bdist_wheel\n",
      "      running build\n",
      "      running build_py\n",
      "      creating build\n",
      "      creating build\\lib.win-amd64-cpython-39\n",
      "      creating build\\lib.win-amd64-cpython-39\\daepy\n",
      "      copying daepy\\bvp.py -> build\\lib.win-amd64-cpython-39\\daepy\n",
      "      copying daepy\\collocation.py -> build\\lib.win-amd64-cpython-39\\daepy\n",
      "      copying daepy\\continuation.py -> build\\lib.win-amd64-cpython-39\\daepy\n",
      "      copying daepy\\dae.py -> build\\lib.win-amd64-cpython-39\\daepy\n",
      "      copying daepy\\derivatives.py -> build\\lib.win-amd64-cpython-39\\daepy\n",
      "      copying daepy\\nonlinear.py -> build\\lib.win-amd64-cpython-39\\daepy\n",
      "      copying daepy\\__init__.py -> build\\lib.win-amd64-cpython-39\\daepy\n",
      "      creating build\\lib.win-amd64-cpython-39\\daepy\\cheby\n",
      "      copying daepy\\cheby\\setup.py -> build\\lib.win-amd64-cpython-39\\daepy\\cheby\n",
      "      copying daepy\\cheby\\__init__.py -> build\\lib.win-amd64-cpython-39\\daepy\\cheby\n",
      "      running build_ext\n",
      "      building 'daepy.cheby.cheby' extension\n",
      "      error: Microsoft Visual C++ 14.0 or greater is required. Get it with \"Microsoft C++ Build Tools\": https://visualstudio.microsoft.com/visual-cpp-build-tools/\n",
      "      [end of output]\n",
      "  \n",
      "  note: This error originates from a subprocess, and is likely not a problem with pip.\n",
      "  ERROR: Failed building wheel for daepy\n",
      "  error: subprocess-exited-with-error\n",
      "  \n",
      "  × Running setup.py install for daepy did not run successfully.\n",
      "  │ exit code: 1\n",
      "  ╰─> [21 lines of output]\n",
      "      running install\n",
      "      c:\\Users\\emok\\Anaconda3\\lib\\site-packages\\setuptools\\command\\install.py:34: SetuptoolsDeprecationWarning: setup.py install is deprecated. Use build and pip and other standards-based tools.\n",
      "        warnings.warn(\n",
      "      running build\n",
      "      running build_py\n",
      "      creating build\n",
      "      creating build\\lib.win-amd64-cpython-39\n",
      "      creating build\\lib.win-amd64-cpython-39\\daepy\n",
      "      copying daepy\\bvp.py -> build\\lib.win-amd64-cpython-39\\daepy\n",
      "      copying daepy\\collocation.py -> build\\lib.win-amd64-cpython-39\\daepy\n",
      "      copying daepy\\continuation.py -> build\\lib.win-amd64-cpython-39\\daepy\n",
      "      copying daepy\\dae.py -> build\\lib.win-amd64-cpython-39\\daepy\n",
      "      copying daepy\\derivatives.py -> build\\lib.win-amd64-cpython-39\\daepy\n",
      "      copying daepy\\nonlinear.py -> build\\lib.win-amd64-cpython-39\\daepy\n",
      "      copying daepy\\__init__.py -> build\\lib.win-amd64-cpython-39\\daepy\n",
      "      creating build\\lib.win-amd64-cpython-39\\daepy\\cheby\n",
      "      copying daepy\\cheby\\setup.py -> build\\lib.win-amd64-cpython-39\\daepy\\cheby\n",
      "      copying daepy\\cheby\\__init__.py -> build\\lib.win-amd64-cpython-39\\daepy\\cheby\n",
      "      running build_ext\n",
      "      building 'daepy.cheby.cheby' extension\n",
      "      error: Microsoft Visual C++ 14.0 or greater is required. Get it with \"Microsoft C++ Build Tools\": https://visualstudio.microsoft.com/visual-cpp-build-tools/\n",
      "      [end of output]\n",
      "  \n",
      "  note: This error originates from a subprocess, and is likely not a problem with pip.\n",
      "error: legacy-install-failure\n",
      "\n",
      "× Encountered error while trying to install package.\n",
      "╰─> daepy\n",
      "\n",
      "note: This is an issue with the package mentioned above, not pip.\n",
      "hint: See above for output from the failure.\n"
     ]
    }
   ],
   "source": [
    "pip install daepy"
   ]
  },
  {
   "cell_type": "code",
   "execution_count": 4,
   "metadata": {},
   "outputs": [
    {
     "name": "stdout",
     "output_type": "stream",
     "text": [
      "Requirement already satisfied: pyomo in c:\\users\\emok\\anaconda3\\lib\\site-packages (6.5.0)\n",
      "Requirement already satisfied: ply in c:\\users\\emok\\anaconda3\\lib\\site-packages (from pyomo) (3.11)\n",
      "Note: you may need to restart the kernel to use updated packages.\n"
     ]
    }
   ],
   "source": [
    "pip install pyomo"
   ]
  },
  {
   "cell_type": "code",
   "execution_count": 30,
   "metadata": {},
   "outputs": [],
   "source": [
    "import numpy as np\n",
    "import pandas as pd\n",
    "\n",
    "from pyomo.environ import *\n",
    "from pyomo.opt import SolverFactory\n",
    "from pyomo.core import Constraint\n",
    "from pyomo.dae import *"
   ]
  },
  {
   "attachments": {},
   "cell_type": "markdown",
   "metadata": {},
   "source": [
    "Static model, when alpha = 0"
   ]
  },
  {
   "cell_type": "code",
   "execution_count": 95,
   "metadata": {},
   "outputs": [
    {
     "name": "stdout",
     "output_type": "stream",
     "text": [
      "N_pv = 32315.4468498914\n",
      "N_on = 352866.485014813\n",
      "N_of = 517826.2190146\n",
      "Z = 35698618.499111645\n"
     ]
    }
   ],
   "source": [
    "# Load data into a Pandas DataFrame\n",
    "data = pd.read_csv(r'D:\\Polit\\Seminar (Energy Econ)\\dCFdata.csv')\n",
    "\n",
    "# Create a Pyomo model\n",
    "model = ConcreteModel()\n",
    "\n",
    "# Define the sets\n",
    "model.hours = Set(initialize=data.index, doc='Set of hours')\n",
    "\n",
    "# Define the variables\n",
    "model.N_pv = Var(domain=NonNegativeReals, initialize=0)\n",
    "model.N_on = Var(domain=NonNegativeReals, initialize=0)\n",
    "model.N_of = Var(domain=NonNegativeReals, initialize=0)\n",
    "model.C = Var(model.hours, domain=NonNegativeReals)\n",
    "\n",
    "# Define the parameters\n",
    "model.k_ipv = Param(default=40)\n",
    "model.k_ion = Param(default=30)\n",
    "model.k_iof = Param(default=46)\n",
    "model.CF_pv = Param(model.hours, initialize=data['CF_pv'].to_dict())\n",
    "model.CF_on = Param(model.hours, initialize=data['CF_on'].to_dict())\n",
    "model.CF_of = Param(model.hours, initialize=data['CF_of'].to_dict())\n",
    "\n",
    "# Define the constraint\n",
    "model.d = Constraint(model.hours, rule=lambda model, h: model.CF_pv[h] * model.N_pv +\n",
    "                                                   model.CF_on[h] * model.N_on +\n",
    "                                                   model.CF_of[h] * model.N_of == data['d'][h] + model.C[h])\n",
    "\n",
    "# Define the objective function\n",
    "model.Z = Objective(expr=model.k_ipv * model.N_pv +\n",
    "                   model.k_ion * model.N_on +\n",
    "                   model.k_iof * model.N_of)\n",
    "\n",
    "# Solve the optimization problem\n",
    "solver = SolverFactory('glpk')\n",
    "solver.solve(model)\n",
    "\n",
    "# Access the solution\n",
    "print(\"N_pv =\", model.N_pv())\n",
    "print(\"N_on =\", model.N_on())\n",
    "print(\"N_of =\", model.N_of())\n",
    "print(\"Z =\", model.Z())\n"
   ]
  },
  {
   "attachments": {},
   "cell_type": "markdown",
   "metadata": {},
   "source": [
    "Dynamic model without bio"
   ]
  },
  {
   "cell_type": "code",
   "execution_count": 96,
   "metadata": {},
   "outputs": [
    {
     "name": "stdout",
     "output_type": "stream",
     "text": [
      "GLPSOL--GLPK LP/MIP Solver 5.0\n",
      "Parameter(s) specified in the command line:\n",
      " --write C:\\Users\\emok\\AppData\\Local\\Temp\\tmpyb_3vid2.glpk.raw --wglp C:\\Users\\emok\\AppData\\Local\\Temp\\tmpd_460e1w.glpk.glp\n",
      " --cpxlp C:\\Users\\emok\\AppData\\Local\\Temp\\tmpkvuji2oz.pyomo.lp\n",
      "Reading problem data from 'C:\\Users\\emok\\AppData\\Local\\Temp\\tmpkvuji2oz.pyomo.lp'...\n",
      "43802 rows, 35044 columns, 105120 non-zeros\n",
      "280340 lines were read\n",
      "Writing problem data to 'C:\\Users\\emok\\AppData\\Local\\Temp\\tmpd_460e1w.glpk.glp'...\n",
      "236533 lines were written\n",
      "GLPK Simplex Optimizer 5.0\n",
      "43802 rows, 35044 columns, 105120 non-zeros\n",
      "Preprocessing...\n",
      "17519 rows, 17521 columns, 61315 non-zeros\n",
      "Scaling...\n",
      " A: min|aij| =  2.860e-05  max|aij| =  1.107e+00  ratio =  3.872e+04\n",
      "GM: min|aij| =  7.727e-03  max|aij| =  1.294e+02  ratio =  1.675e+04\n",
      "EQ: min|aij| =  5.971e-05  max|aij| =  1.000e+00  ratio =  1.675e+04\n",
      "Constructing initial basis...\n",
      "Size of triangular part is 17519\n",
      "      0: obj =   8.182878703e+05 inf =   1.113e+06 (8761)\n",
      "   8798: obj =   8.812784669e+07 inf =   0.000e+00 (0) 86\n",
      "*  9004: obj =   1.842956397e+07 inf =   0.000e+00 (0) 1\n",
      "OPTIMAL LP SOLUTION FOUND\n",
      "Time used:   3.4 secs\n",
      "Memory used: 42.0 Mb (43989176 bytes)\n",
      "Writing basic solution to 'C:\\Users\\emok\\AppData\\Local\\Temp\\tmpyb_3vid2.glpk.raw'...\n",
      "78855 lines were written\n",
      "N_pv = 41809.6909513745\n",
      "N_on = 254280.899428478\n",
      "N_of = 102325.891686183\n",
      "Z = 18429563.974826064\n"
     ]
    }
   ],
   "source": [
    "# Load data into a Pandas DataFrame\n",
    "data = pd.read_csv(r'D:\\Polit\\Seminar (Energy Econ)\\dCFdatavd.csv')\n",
    "\n",
    "# Create a Pyomo model\n",
    "model = ConcreteModel()\n",
    "\n",
    "# Define the sets\n",
    "model.hours = Set(initialize=data.index, doc='Set of hours')\n",
    "\n",
    "# Define the parameters\n",
    "model.k_ipv = Param(default=40)\n",
    "model.k_ion = Param(default=30)\n",
    "model.k_iof = Param(default=46)\n",
    "model.k_vv2g = Param(default=226.56)\n",
    "model.eta_charge = Param (default=0.924)\n",
    "model.eta_discharge = Param(default=0.903)\n",
    "model.E_s = Param(default=160425)\n",
    "model.alpha = Param(default=1)\n",
    "\n",
    "#Define data\n",
    "model.CF_pv = Param(model.hours, initialize=data['CF_pv'].to_dict())\n",
    "model.CF_on = Param(model.hours, initialize=data['CF_on'].to_dict())\n",
    "model.CF_of = Param(model.hours, initialize=data['CF_of'].to_dict())\n",
    "model.pv2g = Param(model.hours, initialize=data['pv2g'].to_dict())\n",
    "model.d_ev = Param(model.hours, initialize=data['d_ev'].to_dict())\n",
    "\n",
    "# Define the variables\n",
    "model.N_pv = Var(domain=NonNegativeReals, initialize=0)\n",
    "model.N_on = Var(domain=NonNegativeReals, initialize=0)\n",
    "model.N_of = Var(domain=NonNegativeReals, initialize=0)\n",
    "model.V = Var(model.hours, domain=NonNegativeReals)\n",
    "model.V_charge = Var(model.hours, domain=NonNegativeReals)\n",
    "model.V_discharge = Var(model.hours, domain=NonNegativeReals)\n",
    "model.C = Var(model.hours, domain=NonNegativeReals)\n",
    "\n",
    "# Market balance constraints\n",
    "model.d1 = Constraint(model.hours, rule=lambda model, h: model.CF_pv[h] * model.N_pv +\n",
    "                                                   model.CF_on[h] * model.N_on +\n",
    "                                                   model.CF_of[h] * model.N_of + model.V_discharge[h] == data['d'][h] + model.C[h])\n",
    "\n",
    "#State of charge constraint\n",
    "def s1_constraint(model,h):\n",
    "    if h == model.hours.first():\n",
    "        return model.V[h] == model.alpha*model.E_s / 2\n",
    "    else: \n",
    "        return model.V[h] == model.V[h-1] + model.eta_charge * model.V_charge[h] - model.V_discharge[h]/model.eta_discharge - data['d_ev'][h]\n",
    "model.s1 = Constraint(model.hours, rule = s1_constraint)\n",
    "\n",
    "\"\"\"No free lunch\"\"\"\n",
    "model.s2 = Constraint(rule=lambda model:  model.V[model.hours.first()] == model.V[model.hours.last()])\n",
    "\n",
    "\"\"\"Maximum energy storage must be less or equal to capacity\"\"\"\n",
    "model.s3 = Constraint(model.hours, rule=lambda model, h: model.V[h] <= model.alpha*model.E_s)\n",
    "\n",
    "# Charging and discharging constraints\n",
    "\"\"\" Maximum discharge rate within a single hour \"\"\"\n",
    "model.disc1 = Constraint(model.hours, rule=lambda model, h: model.V_discharge[h] <= model.alpha*data['pv2g'][h])\n",
    "\n",
    "\"\"\" Maximum charge rate within a single hour \"\"\"\n",
    "model.char1 = Constraint(model.hours, rule=lambda model, h: model.V_charge[h] <= model.alpha*data['pv2g'][h])\n",
    "\n",
    "# Define objective function\n",
    "def obj_expression(model):\n",
    "    return model.k_ipv * model.N_pv + model.k_ion * model.N_on + model.k_iof * model.N_of + model.k_vv2g * sum(model.V_discharge[h] for h in model.hours)\n",
    "\n",
    "model.Z = Objective(expr=obj_expression(model), sense=minimize) # Use the defined objective expression with the 'h' variable\n",
    "\n",
    "# Solve the optimization problem\n",
    "solver = SolverFactory('glpk')\n",
    "#solver.solve(model)\n",
    "results = solver.solve(model,tee=True)\n",
    "\n",
    "# Access the solution\n",
    "print(\"N_pv =\", model.N_pv())\n",
    "print(\"N_on =\", model.N_on())\n",
    "print(\"N_of =\", model.N_of())\n",
    "print(\"Z =\", model.Z())"
   ]
  },
  {
   "attachments": {},
   "cell_type": "markdown",
   "metadata": {},
   "source": [
    "Dynamic model with bio"
   ]
  },
  {
   "attachments": {},
   "cell_type": "markdown",
   "metadata": {},
   "source": []
  }
 ],
 "metadata": {
  "kernelspec": {
   "display_name": "base",
   "language": "python",
   "name": "python3"
  },
  "language_info": {
   "codemirror_mode": {
    "name": "ipython",
    "version": 3
   },
   "file_extension": ".py",
   "mimetype": "text/x-python",
   "name": "python",
   "nbconvert_exporter": "python",
   "pygments_lexer": "ipython3",
   "version": "3.9.13"
  },
  "orig_nbformat": 4,
  "vscode": {
   "interpreter": {
    "hash": "8acc8fe665ce097f01db65ef186719ea04e3ad69591f4c08a063cfefe79d1951"
   }
  }
 },
 "nbformat": 4,
 "nbformat_minor": 2
}
