{
 "cells": [
  {
   "cell_type": "code",
   "execution_count": 5,
   "metadata": {},
   "outputs": [
    {
     "name": "stdout",
     "output_type": "stream",
     "text": [
      "Collecting package metadata (current_repodata.json): ...working... done\n",
      "Note: you may need to restart the kernel to use updated packages.\n"
     ]
    },
    {
     "name": "stderr",
     "output_type": "stream",
     "text": [
      "\n",
      "\n",
      "==> WARNING: A newer version of conda exists. <==\n",
      "  current version: 22.9.0\n",
      "  latest version: 23.3.1\n",
      "\n",
      "Please update conda by running\n",
      "\n",
      "    $ conda update -n base -c defaults conda\n",
      "\n",
      "\n"
     ]
    },
    {
     "name": "stdout",
     "output_type": "stream",
     "text": [
      "\n",
      "Solving environment: ...working... done\n",
      "\n",
      "## Package Plan ##\n",
      "\n",
      "  environment location: c:\\Users\\emok\\Anaconda3\n",
      "\n",
      "  added / updated specs:\n",
      "    - glpk\n",
      "\n",
      "\n",
      "The following packages will be downloaded:\n",
      "\n",
      "    package                    |            build\n",
      "    ---------------------------|-----------------\n",
      "    glpk-5.0                   |       h8ffe710_0         3.3 MB  conda-forge\n",
      "    ------------------------------------------------------------\n",
      "                                           Total:         3.3 MB\n",
      "\n",
      "The following NEW packages will be INSTALLED:\n",
      "\n",
      "  glpk               conda-forge/win-64::glpk-5.0-h8ffe710_0 None\n",
      "\n",
      "\n",
      "\n",
      "Downloading and Extracting Packages\n",
      "\n",
      "glpk-5.0             | 3.3 MB    |            |   0% \n",
      "glpk-5.0             | 3.3 MB    |            |   0% \n",
      "glpk-5.0             | 3.3 MB    | 7          |   7% \n",
      "glpk-5.0             | 3.3 MB    | #2         |  12% \n",
      "glpk-5.0             | 3.3 MB    | #9         |  20% \n",
      "glpk-5.0             | 3.3 MB    | ##5        |  25% \n",
      "glpk-5.0             | 3.3 MB    | ###2       |  33% \n",
      "glpk-5.0             | 3.3 MB    | ####1      |  42% \n",
      "glpk-5.0             | 3.3 MB    | ####8      |  49% \n",
      "glpk-5.0             | 3.3 MB    | #####6     |  56% \n",
      "glpk-5.0             | 3.3 MB    | ######3    |  63% \n",
      "glpk-5.0             | 3.3 MB    | #######    |  70% \n",
      "glpk-5.0             | 3.3 MB    | #######7   |  77% \n",
      "glpk-5.0             | 3.3 MB    | ########4  |  84% \n",
      "glpk-5.0             | 3.3 MB    | #########2 |  92% \n",
      "glpk-5.0             | 3.3 MB    | ########## | 100% \n",
      "glpk-5.0             | 3.3 MB    | ########## | 100% \n",
      "Preparing transaction: ...working... done\n",
      "Verifying transaction: ...working... done\n",
      "Executing transaction: ...working... done\n",
      "Retrieving notices: ...working... done\n"
     ]
    }
   ],
   "source": [
    "conda install -c conda-forge glpk"
   ]
  },
  {
   "cell_type": "code",
   "execution_count": 4,
   "metadata": {},
   "outputs": [
    {
     "name": "stdout",
     "output_type": "stream",
     "text": [
      "Requirement already satisfied: pyomo in c:\\users\\emok\\anaconda3\\lib\\site-packages (6.5.0)\n",
      "Requirement already satisfied: ply in c:\\users\\emok\\anaconda3\\lib\\site-packages (from pyomo) (3.11)\n",
      "Note: you may need to restart the kernel to use updated packages.\n"
     ]
    }
   ],
   "source": [
    "pip install pyomo"
   ]
  },
  {
   "cell_type": "code",
   "execution_count": 67,
   "metadata": {},
   "outputs": [],
   "source": [
    "import numpy as np\n",
    "import pandas as pd\n",
    "\n",
    "from pyomo.environ import *"
   ]
  },
  {
   "attachments": {},
   "cell_type": "markdown",
   "metadata": {},
   "source": [
    "Static model, when alpha = 0"
   ]
  },
  {
   "cell_type": "code",
   "execution_count": 68,
   "metadata": {},
   "outputs": [
    {
     "name": "stdout",
     "output_type": "stream",
     "text": [
      "N_pv = 32315.4468498913\n",
      "N_on = 352866.485014811\n",
      "N_of = 517826.219014595\n",
      "Z = 35698618.499111354\n"
     ]
    }
   ],
   "source": [
    "# Load data into a Pandas DataFrame\n",
    "data = pd.read_csv(r'D:\\Polit\\Seminar (Energy Econ)\\dCFdata.csv')\n",
    "\n",
    "# Create a Pyomo model\n",
    "model = ConcreteModel()\n",
    "\n",
    "# Define the sets\n",
    "model.hours = Set(initialize=data.index, doc='Set of hours')\n",
    "\n",
    "# Define the variables\n",
    "model.N_pv = Var(domain=NonNegativeReals, initialize=0)\n",
    "model.N_on = Var(domain=NonNegativeReals, initialize=0)\n",
    "model.N_of = Var(domain=NonNegativeReals, initialize=0)\n",
    "\n",
    "# Define the parameters\n",
    "model.k_ipv = Param(default=40)\n",
    "model.k_ion = Param(default=30)\n",
    "model.k_iof = Param(default=46)\n",
    "model.CF_pv = Param(model.hours, initialize=data['CF_pv'].to_dict())\n",
    "model.CF_on = Param(model.hours, initialize=data['CF_on'].to_dict())\n",
    "model.CF_of = Param(model.hours, initialize=data['CF_of'].to_dict())\n",
    "\n",
    "# Define the constraint\n",
    "model.d = Constraint(model.hours, rule=lambda model, h: model.CF_pv[h] * model.N_pv +\n",
    "                                                   model.CF_on[h] * model.N_on +\n",
    "                                                   model.CF_of[h] * model.N_of >= data['d'][h])\n",
    "\n",
    "# Define the objective function\n",
    "model.Z = Objective(expr=model.k_ipv * model.N_pv +\n",
    "                   model.k_ion * model.N_on +\n",
    "                   model.k_iof * model.N_of)\n",
    "\n",
    "# Solve the optimization problem\n",
    "solver = SolverFactory('glpk')\n",
    "solver.solve(model)\n",
    "\n",
    "# Access the solution\n",
    "print(\"N_pv =\", model.N_pv())\n",
    "print(\"N_on =\", model.N_on())\n",
    "print(\"N_of =\", model.N_of())\n",
    "print(\"Z =\", model.Z())\n"
   ]
  },
  {
   "attachments": {},
   "cell_type": "markdown",
   "metadata": {},
   "source": [
    "Dynamic model, when alpha>0"
   ]
  },
  {
   "cell_type": "code",
   "execution_count": 80,
   "metadata": {},
   "outputs": [
    {
     "name": "stdout",
     "output_type": "stream",
     "text": [
      "WARNING (W1002): Setting Var 'V[0]' to a numeric value `50000` outside the\n",
      "    bounds (0, 40106.25).\n",
      "    See also https://pyomo.readthedocs.io/en/stable/errors.html#w1002\n",
      "N_pv = 0\n",
      "N_on = 0\n",
      "N_of = 0\n",
      "Z = 0.0\n"
     ]
    }
   ],
   "source": [
    "# Load data into a Pandas DataFrame\n",
    "data = pd.read_csv(r'D:\\Polit\\Seminar (Energy Econ)\\dCFdatavd.csv')\n",
    "\n",
    "# Create a Pyomo model\n",
    "model = ConcreteModel()\n",
    "\n",
    "# Define the sets\n",
    "model.hours = Set(initialize=data.index, doc='Set of hours')\n",
    "\n",
    "# Define the variables\n",
    "model.N_pv = Var(domain=NonNegativeReals, initialize=0)\n",
    "model.N_on = Var(domain=NonNegativeReals, initialize=0)\n",
    "model.N_of = Var(domain=NonNegativeReals, initialize=0)\n",
    "model.V = Var(model.hours, domain=NonNegativeReals, bounds=(0, 0.25*160425), initialize=0)\n",
    "model.V_charge = Var(model.hours, domain=NonNegativeReals, bounds=lambda model, h:(0, 0.25*data['pv2g'][h]), initialize=0)\n",
    "model.V_discharge = Var(model.hours, domain=NonNegativeReals, bounds=lambda model, h:(0, 0.25*data['pv2g'][h]), initialize=0)\n",
    "model.C = Var(model.hours, domain=NonNegativeReals, initialize=0)\n",
    "\n",
    "# Define the parameters\n",
    "model.k_ipv = Param(default=40)\n",
    "model.k_ion = Param(default=30)\n",
    "model.k_iof = Param(default=46)\n",
    "model.k_vv2g = Param(default=226.56)\n",
    "model.eta_charge = Param (default=0.924)\n",
    "model.eta_discharge = Param(default=0.903)\n",
    "\n",
    "#Define data\n",
    "model.CF_pv = Param(model.hours, initialize=data['CF_pv'].to_dict())\n",
    "model.CF_on = Param(model.hours, initialize=data['CF_on'].to_dict())\n",
    "model.CF_of = Param(model.hours, initialize=data['CF_of'].to_dict())\n",
    "model.pv2g = Param(model.hours, initialize=data['pv2g'].to_dict())\n",
    "model.d_ev = Param(model.hours, initialize=data['d_ev'].to_dict())\n",
    "\n",
    "# Define the constraint\n",
    "model.d1 = Constraint(model.hours, rule=lambda model, h: model.CF_pv[h] * model.N_pv +\n",
    "                                                   model.CF_on[h] * model.N_on +\n",
    "                                                   model.CF_of[h] * model.N_of + model.V_discharge[h] == data['d'][h])\n",
    "\n",
    "model.d2 = Constraint(model.hours, rule=lambda model, h: model.CF_pv[h] * model.N_pv +\n",
    "                                                   model.CF_on[h] * model.N_on +\n",
    "                                                   model.CF_of[h] * model.N_of == data['d'][h] + model.V_discharge[h] + model.C[h])\n",
    "\n",
    "\n",
    "# Define a parameter to store the previous hour\n",
    "model.prev_h = Param(model.hours, initialize=lambda model, h: model.hours.prev(h) if h > model.hours.first() else model.hours.last(), within=model.hours)\n",
    "\n",
    "model.d3 = Constraint(model.hours, rule=lambda model, h: model.V[h] == model.V[model.prev_h[h]] + model.eta_charge * model.V_charge[h] - model.V_discharge[h]/model.eta_discharge - data['d_ev'][h])\n",
    "\n",
    "# Define objective function\n",
    "def obj_expression(model):\n",
    "    return model.k_ipv * model.N_pv + model.k_ion * model.N_on + model.k_iof * model.N_of + model.k_vv2g * sum(model.V_discharge[h] for h in model.hours)\n",
    "\n",
    "model.Z = Objective(expr=obj_expression(model)) # Use the defined objective expression with the 'h' variable\n",
    "\n",
    "# Solve the optimization problem\n",
    "solver = SolverFactory('glpk')\n",
    "solver.solve(model)\n",
    "\n",
    "# Access the solution\n",
    "print(\"N_pv =\", model.N_pv())\n",
    "print(\"N_on =\", model.N_on())\n",
    "print(\"N_of =\", model.N_of())\n",
    "print(\"Z =\", model.Z())"
   ]
  },
  {
   "cell_type": "code",
   "execution_count": null,
   "metadata": {},
   "outputs": [],
   "source": []
  },
  {
   "cell_type": "code",
   "execution_count": null,
   "metadata": {},
   "outputs": [],
   "source": []
  }
 ],
 "metadata": {
  "kernelspec": {
   "display_name": "base",
   "language": "python",
   "name": "python3"
  },
  "language_info": {
   "codemirror_mode": {
    "name": "ipython",
    "version": 3
   },
   "file_extension": ".py",
   "mimetype": "text/x-python",
   "name": "python",
   "nbconvert_exporter": "python",
   "pygments_lexer": "ipython3",
   "version": "3.9.13"
  },
  "orig_nbformat": 4,
  "vscode": {
   "interpreter": {
    "hash": "8acc8fe665ce097f01db65ef186719ea04e3ad69591f4c08a063cfefe79d1951"
   }
  }
 },
 "nbformat": 4,
 "nbformat_minor": 2
}
