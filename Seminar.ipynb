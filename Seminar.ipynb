{
 "cells": [
  {
   "cell_type": "code",
   "execution_count": 5,
   "metadata": {},
   "outputs": [
    {
     "name": "stdout",
     "output_type": "stream",
     "text": [
      "Collecting package metadata (current_repodata.json): ...working... done\n",
      "Note: you may need to restart the kernel to use updated packages.\n"
     ]
    },
    {
     "name": "stderr",
     "output_type": "stream",
     "text": [
      "\n",
      "\n",
      "==> WARNING: A newer version of conda exists. <==\n",
      "  current version: 22.9.0\n",
      "  latest version: 23.3.1\n",
      "\n",
      "Please update conda by running\n",
      "\n",
      "    $ conda update -n base -c defaults conda\n",
      "\n",
      "\n"
     ]
    },
    {
     "name": "stdout",
     "output_type": "stream",
     "text": [
      "\n",
      "Solving environment: ...working... done\n",
      "\n",
      "## Package Plan ##\n",
      "\n",
      "  environment location: c:\\Users\\emok\\Anaconda3\n",
      "\n",
      "  added / updated specs:\n",
      "    - glpk\n",
      "\n",
      "\n",
      "The following packages will be downloaded:\n",
      "\n",
      "    package                    |            build\n",
      "    ---------------------------|-----------------\n",
      "    glpk-5.0                   |       h8ffe710_0         3.3 MB  conda-forge\n",
      "    ------------------------------------------------------------\n",
      "                                           Total:         3.3 MB\n",
      "\n",
      "The following NEW packages will be INSTALLED:\n",
      "\n",
      "  glpk               conda-forge/win-64::glpk-5.0-h8ffe710_0 None\n",
      "\n",
      "\n",
      "\n",
      "Downloading and Extracting Packages\n",
      "\n",
      "glpk-5.0             | 3.3 MB    |            |   0% \n",
      "glpk-5.0             | 3.3 MB    |            |   0% \n",
      "glpk-5.0             | 3.3 MB    | 7          |   7% \n",
      "glpk-5.0             | 3.3 MB    | #2         |  12% \n",
      "glpk-5.0             | 3.3 MB    | #9         |  20% \n",
      "glpk-5.0             | 3.3 MB    | ##5        |  25% \n",
      "glpk-5.0             | 3.3 MB    | ###2       |  33% \n",
      "glpk-5.0             | 3.3 MB    | ####1      |  42% \n",
      "glpk-5.0             | 3.3 MB    | ####8      |  49% \n",
      "glpk-5.0             | 3.3 MB    | #####6     |  56% \n",
      "glpk-5.0             | 3.3 MB    | ######3    |  63% \n",
      "glpk-5.0             | 3.3 MB    | #######    |  70% \n",
      "glpk-5.0             | 3.3 MB    | #######7   |  77% \n",
      "glpk-5.0             | 3.3 MB    | ########4  |  84% \n",
      "glpk-5.0             | 3.3 MB    | #########2 |  92% \n",
      "glpk-5.0             | 3.3 MB    | ########## | 100% \n",
      "glpk-5.0             | 3.3 MB    | ########## | 100% \n",
      "Preparing transaction: ...working... done\n",
      "Verifying transaction: ...working... done\n",
      "Executing transaction: ...working... done\n",
      "Retrieving notices: ...working... done\n"
     ]
    }
   ],
   "source": [
    "conda install -c conda-forge glpk"
   ]
  },
  {
   "cell_type": "code",
   "execution_count": 4,
   "metadata": {},
   "outputs": [
    {
     "name": "stdout",
     "output_type": "stream",
     "text": [
      "Requirement already satisfied: pyomo in c:\\users\\emok\\anaconda3\\lib\\site-packages (6.5.0)\n",
      "Requirement already satisfied: ply in c:\\users\\emok\\anaconda3\\lib\\site-packages (from pyomo) (3.11)\n",
      "Note: you may need to restart the kernel to use updated packages.\n"
     ]
    }
   ],
   "source": [
    "pip install pyomo"
   ]
  },
  {
   "cell_type": "code",
   "execution_count": 3,
   "metadata": {},
   "outputs": [],
   "source": [
    "import numpy as np\n",
    "\n",
    "from pyomo.environ import *"
   ]
  },
  {
   "attachments": {},
   "cell_type": "markdown",
   "metadata": {},
   "source": [
    "Static model, when alpha = 0"
   ]
  },
  {
   "cell_type": "code",
   "execution_count": null,
   "metadata": {},
   "outputs": [],
   "source": [
    "# Create a ConcreteModel object\n",
    "model = ConcreteModel()\n",
    "\n",
    "# Define the sets\n",
    "model.Npv = Set()\n",
    "model.Non = Set()\n",
    "model.Nof = Set()\n",
    "\n",
    "# Define the variables\n",
    "\n",
    "\n",
    "# Define the parameters\n",
    "model.k_ipv = Param(model.Npv, within=NonNegativeReals)\n",
    "\n",
    "# Define the objective function\n",
    "def objective_rule(model):\n",
    "        return model.\n",
    "\n",
    "# Define the constraint\n",
    "def constraint_rule(model):\n",
    "        \n",
    "# Create an instance of the model\n",
    "\n",
    "\n",
    "# Solve the optimization problem\n",
    "solver = SolverFactory('glpk')\n",
    "results = solver.solve(instance)\n",
    "\n",
    "# Check the solver status and retrieve the optimal solution\n",
    "if str()\n",
    "\n"
   ]
  },
  {
   "attachments": {},
   "cell_type": "markdown",
   "metadata": {},
   "source": [
    "Dynamic model, when alpha>0"
   ]
  },
  {
   "cell_type": "markdown",
   "metadata": {},
   "source": []
  }
 ],
 "metadata": {
  "kernelspec": {
   "display_name": "base",
   "language": "python",
   "name": "python3"
  },
  "language_info": {
   "codemirror_mode": {
    "name": "ipython",
    "version": 3
   },
   "file_extension": ".py",
   "mimetype": "text/x-python",
   "name": "python",
   "nbconvert_exporter": "python",
   "pygments_lexer": "ipython3",
   "version": "3.9.13"
  },
  "orig_nbformat": 4,
  "vscode": {
   "interpreter": {
    "hash": "8acc8fe665ce097f01db65ef186719ea04e3ad69591f4c08a063cfefe79d1951"
   }
  }
 },
 "nbformat": 4,
 "nbformat_minor": 2
}
